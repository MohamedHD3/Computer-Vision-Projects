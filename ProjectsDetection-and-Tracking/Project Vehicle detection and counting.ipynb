{
 "cells": [
  {
   "cell_type": "code",
   "execution_count": 1,
   "id": "f245a54d",
   "metadata": {},
   "outputs": [
    {
     "ename": "error",
     "evalue": "OpenCV(4.8.1) D:\\a\\opencv-python\\opencv-python\\opencv\\modules\\imgproc\\src\\color.cpp:182: error: (-215:Assertion failed) !_src.empty() in function 'cv::cvtColor'\n",
     "output_type": "error",
     "traceback": [
      "\u001b[1;31m---------------------------------------------------------------------------\u001b[0m",
      "\u001b[1;31merror\u001b[0m                                     Traceback (most recent call last)",
      "Cell \u001b[1;32mIn[1], line 30\u001b[0m\n\u001b[0;32m     28\u001b[0m tempo \u001b[38;5;241m=\u001b[39m \u001b[38;5;28mfloat\u001b[39m(\u001b[38;5;241m1\u001b[39m\u001b[38;5;241m/\u001b[39mdelay)         \n\u001b[0;32m     29\u001b[0m sleep(tempo)         \n\u001b[1;32m---> 30\u001b[0m grey \u001b[38;5;241m=\u001b[39m cv2\u001b[38;5;241m.\u001b[39mcvtColor(frame1, cv2\u001b[38;5;241m.\u001b[39mCOLOR_BGR2GRAY)         \n\u001b[0;32m     31\u001b[0m blur \u001b[38;5;241m=\u001b[39m cv2\u001b[38;5;241m.\u001b[39mGaussianBlur(grey, (\u001b[38;5;241m3\u001b[39m, \u001b[38;5;241m3\u001b[39m), \u001b[38;5;241m5\u001b[39m)          \n\u001b[0;32m     32\u001b[0m img_sub \u001b[38;5;241m=\u001b[39m subtracao\u001b[38;5;241m.\u001b[39mapply(blur)          \n",
      "\u001b[1;31merror\u001b[0m: OpenCV(4.8.1) D:\\a\\opencv-python\\opencv-python\\opencv\\modules\\imgproc\\src\\color.cpp:182: error: (-215:Assertion failed) !_src.empty() in function 'cv::cvtColor'\n"
     ]
    }
   ],
   "source": [
    "import cv2\n",
    "import numpy as np\n",
    "from time import sleep\n",
    "\n",
    "largura_min = 80\n",
    "altura_min = 80\n",
    "offset = 6\n",
    "pos_linha = 550\n",
    "\n",
    "# FPS to vídeo\n",
    "delay = 60\n",
    "detec = []\n",
    "carros = 0\n",
    "\n",
    "def pega_centro(x, y, w, h):\n",
    "    x1 = int(w / 2)\n",
    "    y1 = int(h / 2)\n",
    "    cx = x + x1\n",
    "    cy = y + y1\n",
    "    return cx, cy\n",
    "\n",
    "# video source input\n",
    "cap = cv2.VideoCapture('video.mp4')\n",
    "subtracao = cv2.createBackgroundSubtractorMOG2()\n",
    "\n",
    "while True:\n",
    "    ret, frame1 = cap.read()        \n",
    "    tempo = float(1/delay)         \n",
    "    sleep(tempo)         \n",
    "    grey = cv2.cvtColor(frame1, cv2.COLOR_BGR2GRAY)         \n",
    "    blur = cv2.GaussianBlur(grey, (3, 3), 5)          \n",
    "    img_sub = subtracao.apply(blur)          \n",
    "    dilat = cv2.dilate(img_sub, np.ones((5, 5)))           \n",
    "\n",
    "    kernel = cv2.getStructuringElement(cv2.MORPH_ELLIPSE, (5, 5))           \n",
    "    dilatada = cv2.morphologyEx(dilat, cv2. MORPH_CLOSE, kernel)          \n",
    "    dilatada = cv2.morphologyEx(dilatada, cv2. MORPH_CLOSE, kernel)          \n",
    "\n",
    "    contorno, h = cv2.findContours(dilatada, cv2.RETR_TREE, cv2.CHAIN_APPROX_SIMPLE)          \n",
    "    cv2.line(frame1, (25, pos_linha), (1200, pos_linha), (176, 130, 39), 2)            \n",
    "\n",
    "    for(i, c) in enumerate(contorno):            \n",
    "        (x, y, w, h) = cv2.boundingRect(c)                \n",
    "        validar_contorno = (w >= largura_min) and (h >= altura_min)                 \n",
    "        if not validar_contorno:                 \n",
    "            continue                      \n",
    "\n",
    "        cv2.rectangle(frame1, (x, y), (x+w, y+h), (0, 255, 0), 2)                    \n",
    "        centro = pega_centro(x, y, w, h)                    \n",
    "        detec.append(centro)                     \n",
    "        cv2.circle(frame1, centro, 4, (0, 0, 255), -1)                    \n",
    "\n",
    "        for (x, y) in detec:                 \n",
    "            if (y < (pos_linha + offset)) and (y > (pos_linha-offset)):                         \n",
    "                carros += 1                          \n",
    "                cv2.line(frame1, (25, pos_linha), (1200, pos_linha), (0, 127, 255), 3)                         \n",
    "                detec.remove((x, y))                        \n",
    "                print(\"No. of cars detected : \" + str(carros))                        \n",
    "\n",
    "\n",
    "    cv2.putText(frame1, \"VEHICLE COUNT : \"+str(carros), (320, 70),              cv2.FONT_HERSHEY_COMPLEX, 2, (0, 0, 255), 4)\n",
    "    cv2.imshow(\"Video Original\", frame1)\n",
    "    cv2.imshow(\" Detectar \", dilatada)\n",
    "    if cv2.waitKey(1) == 27:\n",
    "        break        \n",
    "\n",
    "    \n",
    "cv2.destroyAllWindows()\n",
    "cap.release()"
   ]
  },
  {
   "cell_type": "code",
   "execution_count": null,
   "id": "920d22ab",
   "metadata": {},
   "outputs": [],
   "source": []
  }
 ],
 "metadata": {
  "kernelspec": {
   "display_name": "Python 3 (ipykernel)",
   "language": "python",
   "name": "python3"
  },
  "language_info": {
   "codemirror_mode": {
    "name": "ipython",
    "version": 3
   },
   "file_extension": ".py",
   "mimetype": "text/x-python",
   "name": "python",
   "nbconvert_exporter": "python",
   "pygments_lexer": "ipython3",
   "version": "3.11.4"
  }
 },
 "nbformat": 4,
 "nbformat_minor": 5
}
